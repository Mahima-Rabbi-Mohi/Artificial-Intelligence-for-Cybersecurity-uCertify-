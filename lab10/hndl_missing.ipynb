{
 "cells": [
  {
   "cell_type": "code",
   "execution_count": 1,
   "metadata": {},
   "outputs": [],
   "source": [
    "import numpy as np\n",
    "import pandas as pd\n",
    "from sklearn.impute import SimpleImputer\n",
    "from sklearn.experimental import enable_iterative_imputer\n",
    "from sklearn.impute import IterativeImputer"
   ]
  },
  {
   "cell_type": "code",
   "execution_count": 2,
   "metadata": {},
   "outputs": [
    {
     "name": "stdout",
     "output_type": "stream",
     "text": [
      "   Feature1  Feature2\n",
      "0       3.0       NaN\n",
      "1       2.0       4.0\n",
      "2       NaN       3.0\n",
      "3       7.0       9.0\n",
      "4       6.0       8.0\n"
     ]
    }
   ],
   "source": [
    "# Create a sample dataset with missing values\n",
    "data = pd.DataFrame({\n",
    " 'Feature1': [3, 2, np.nan, 7, 6],\n",
    " 'Feature2': [np.nan, 4, 3, 9, 8]\n",
    "})\n",
    " \n",
    "# Display the dataset\n",
    "print(data)"
   ]
  },
  {
   "cell_type": "code",
   "execution_count": 3,
   "metadata": {},
   "outputs": [],
   "source": [
    "simple_imputer = SimpleImputer(missing_values=np.nan, strategy='mean')"
   ]
  },
  {
   "cell_type": "code",
   "execution_count": 4,
   "metadata": {},
   "outputs": [
    {
     "data": {
      "text/plain": [
       "SimpleImputer()"
      ]
     },
     "execution_count": 4,
     "metadata": {},
     "output_type": "execute_result"
    }
   ],
   "source": [
    "simple_imputer.fit(data)"
   ]
  },
  {
   "cell_type": "code",
   "execution_count": 5,
   "metadata": {},
   "outputs": [],
   "source": [
    "data_imputed = simple_imputer.transform(data)"
   ]
  },
  {
   "cell_type": "code",
   "execution_count": 6,
   "metadata": {},
   "outputs": [
    {
     "name": "stdout",
     "output_type": "stream",
     "text": [
      "Univariate Imputation:\n",
      "   Feature1  Feature2\n",
      "0       3.0       6.0\n",
      "1       2.0       4.0\n",
      "2       4.5       3.0\n",
      "3       7.0       9.0\n",
      "4       6.0       8.0\n"
     ]
    }
   ],
   "source": [
    "print(\"Univariate Imputation:\")\n",
    "print(pd.DataFrame(data_imputed, columns=data.columns))"
   ]
  },
  {
   "cell_type": "code",
   "execution_count": 7,
   "metadata": {},
   "outputs": [],
   "source": [
    "iterative_imputer = IterativeImputer(imputation_order='ascending', max_iter=15, random_state=0, tol=0.001)"
   ]
  },
  {
   "cell_type": "code",
   "execution_count": 8,
   "metadata": {},
   "outputs": [
    {
     "data": {
      "text/plain": [
       "IterativeImputer(max_iter=15, random_state=0)"
      ]
     },
     "execution_count": 8,
     "metadata": {},
     "output_type": "execute_result"
    }
   ],
   "source": [
    "iterative_imputer.fit(data)"
   ]
  },
  {
   "cell_type": "code",
   "execution_count": 9,
   "metadata": {},
   "outputs": [],
   "source": [
    "data_imputed = iterative_imputer.transform(data)"
   ]
  },
  {
   "cell_type": "code",
   "execution_count": 10,
   "metadata": {},
   "outputs": [
    {
     "name": "stdout",
     "output_type": "stream",
     "text": [
      "Multivariate Imputation:\n",
      "   Feature1  Feature2\n",
      "0  3.000000  5.000227\n",
      "1  2.000000  4.000000\n",
      "2  0.999379  3.000000\n",
      "3  7.000000  9.000000\n",
      "4  6.000000  8.000000\n"
     ]
    }
   ],
   "source": [
    "print(\"Multivariate Imputation:\")\n",
    "print(pd.DataFrame(data_imputed, columns=data.columns))"
   ]
  },
  {
   "cell_type": "code",
   "execution_count": 11,
   "metadata": {},
   "outputs": [
    {
     "name": "stdout",
     "output_type": "stream",
     "text": [
      "Descriptive Statistics (Before Imputation):\n",
      "       Feature1  Feature2\n",
      "count  4.000000   4.00000\n",
      "mean   4.500000   6.00000\n",
      "std    2.380476   2.94392\n",
      "min    2.000000   3.00000\n",
      "25%    2.750000   3.75000\n",
      "50%    4.500000   6.00000\n",
      "75%    6.250000   8.25000\n",
      "max    7.000000   9.00000\n"
     ]
    }
   ],
   "source": [
    "print(\"Descriptive Statistics (Before Imputation):\")\n",
    "print(data.describe())"
   ]
  },
  {
   "cell_type": "code",
   "execution_count": 12,
   "metadata": {},
   "outputs": [
    {
     "name": "stdout",
     "output_type": "stream",
     "text": [
      "Descriptive Statistics (After Imputation):\n",
      "       Feature1  Feature2\n",
      "count  5.000000  5.000000\n",
      "mean   3.799876  5.800045\n",
      "std    2.588604  2.588418\n",
      "min    0.999379  3.000000\n",
      "25%    2.000000  4.000000\n",
      "50%    3.000000  5.000227\n",
      "75%    6.000000  8.000000\n",
      "max    7.000000  9.000000\n"
     ]
    }
   ],
   "source": [
    "print(\"Descriptive Statistics (After Imputation):\")\n",
    "print(pd.DataFrame(data_imputed, columns=data.columns).describe())"
   ]
  },
  {
   "cell_type": "code",
   "execution_count": null,
   "metadata": {},
   "outputs": [],
   "source": []
  }
 ],
 "metadata": {
  "kernelspec": {
   "display_name": "Python 3",
   "language": "python",
   "name": "python3"
  },
  "language_info": {
   "codemirror_mode": {
    "name": "ipython",
    "version": 3
   },
   "file_extension": ".py",
   "mimetype": "text/x-python",
   "name": "python",
   "nbconvert_exporter": "python",
   "pygments_lexer": "ipython3",
   "version": "3.8.3"
  }
 },
 "nbformat": 4,
 "nbformat_minor": 4
}
