{
 "cells": [
  {
   "cell_type": "code",
   "execution_count": 1,
   "metadata": {},
   "outputs": [],
   "source": [
    "import numpy as np"
   ]
  },
  {
   "cell_type": "code",
   "execution_count": 2,
   "metadata": {},
   "outputs": [],
   "source": [
    "# Example data: Daily temperature (in C) and ice cream sales (in $)\n",
    "data = np.array([\n",
    " [28, 85],\n",
    " [31, 92],\n",
    " [27, 89],\n",
    " [34, 97],\n",
    " [23, 82],\n",
    " [35, 99],\n",
    " [30, 88]\n",
    "])"
   ]
  },
  {
   "cell_type": "code",
   "execution_count": 3,
   "metadata": {},
   "outputs": [
    {
     "name": "stdout",
     "output_type": "stream",
     "text": [
      "[29.71428571 90.28571429]\n"
     ]
    }
   ],
   "source": [
    "# Calculate the mean of each variable\n",
    "means = np.mean(data, axis=0)\n",
    "print(means)"
   ]
  },
  {
   "cell_type": "code",
   "execution_count": 4,
   "metadata": {},
   "outputs": [
    {
     "name": "stdout",
     "output_type": "stream",
     "text": [
      "[14.7755102  32.48979592]\n"
     ]
    }
   ],
   "source": [
    "# Calculate the variance of each variable\n",
    "variance = np.var(data, axis=0)\n",
    "print(variance)"
   ]
  },
  {
   "cell_type": "code",
   "execution_count": 5,
   "metadata": {},
   "outputs": [
    {
     "name": "stdout",
     "output_type": "stream",
     "text": [
      "[[17.23809524 24.0952381 ]\n",
      " [24.0952381  37.9047619 ]]\n"
     ]
    }
   ],
   "source": [
    "# Calculate the covariance between temperature and ice cream sales\n",
    "covariance = np.cov(data, rowvar=False)\n",
    "print(covariance)"
   ]
  },
  {
   "cell_type": "code",
   "execution_count": 6,
   "metadata": {},
   "outputs": [
    {
     "name": "stdout",
     "output_type": "stream",
     "text": [
      "[[1624.5 1738.5 1767.  1795.5 1681.5 1824.  1653. ]\n",
      " [1738.5 1860.5 1891.  1921.5 1799.5 1952.  1769. ]\n",
      " [1767.  1891.  1922.  1953.  1829.  1984.  1798. ]\n",
      " [1795.5 1921.5 1953.  1984.5 1858.5 2016.  1827. ]\n",
      " [1681.5 1799.5 1829.  1858.5 1740.5 1888.  1711. ]\n",
      " [1824.  1952.  1984.  2016.  1888.  2048.  1856. ]\n",
      " [1653.  1769.  1798.  1827.  1711.  1856.  1682. ]]\n"
     ]
    }
   ],
   "source": [
    "print(np.cov(data).T)"
   ]
  },
  {
   "cell_type": "code",
   "execution_count": null,
   "metadata": {},
   "outputs": [],
   "source": []
  }
 ],
 "metadata": {
  "kernelspec": {
   "display_name": "Python 3",
   "language": "python",
   "name": "python3"
  },
  "language_info": {
   "codemirror_mode": {
    "name": "ipython",
    "version": 3
   },
   "file_extension": ".py",
   "mimetype": "text/x-python",
   "name": "python",
   "nbconvert_exporter": "python",
   "pygments_lexer": "ipython3",
   "version": "3.8.3"
  }
 },
 "nbformat": 4,
 "nbformat_minor": 4
}
