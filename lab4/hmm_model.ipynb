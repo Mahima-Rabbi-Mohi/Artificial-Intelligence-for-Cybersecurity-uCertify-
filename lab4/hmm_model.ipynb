{
 "cells": [
  {
   "cell_type": "code",
   "execution_count": 1,
   "metadata": {},
   "outputs": [
    {
     "name": "stdout",
     "output_type": "stream",
     "text": [
      "Collecting hidden_markov\n",
      "  Downloading hidden_markov-0.3.2.tar.gz (6.6 kB)\n",
      "Requirement already satisfied: numpy in ./anaconda3/lib/python3.8/site-packages (from hidden_markov) (1.18.5)\n",
      "Building wheels for collected packages: hidden-markov\n",
      "  Building wheel for hidden-markov (setup.py) ... \u001b[?25ldone\n",
      "\u001b[?25h  Created wheel for hidden-markov: filename=hidden_markov-0.3.2-py3-none-any.whl size=6906 sha256=7bc9f5913de1a7a11ed1bae3551c4db71228d19b76180a6794e7bd7bde7f95f8\n",
      "  Stored in directory: /root/.cache/pip/wheels/45/4c/b3/02587ea553d137d13357ba62e3c3d9ff51ab70f279ec3129ab\n",
      "Successfully built hidden-markov\n",
      "Installing collected packages: hidden-markov\n",
      "Successfully installed hidden-markov-0.3.2\n",
      "Note: you may need to restart the kernel to use updated packages.\n"
     ]
    }
   ],
   "source": [
    "pip install hidden_markov"
   ]
  },
  {
   "cell_type": "code",
   "execution_count": 2,
   "metadata": {},
   "outputs": [],
   "source": [
    "import numpy as np\n",
    "from hidden_markov import hmm"
   ]
  },
  {
   "cell_type": "code",
   "execution_count": 3,
   "metadata": {},
   "outputs": [],
   "source": [
    "ob_types = ('W', 'N') # Working and Not Working\n",
    "states = ('L', 'M') # Legitimate and Malicious"
   ]
  },
  {
   "cell_type": "code",
   "execution_count": 4,
   "metadata": {},
   "outputs": [],
   "source": [
    "observations = ('W', 'W', 'W', 'N')"
   ]
  },
  {
   "cell_type": "code",
   "execution_count": 5,
   "metadata": {},
   "outputs": [],
   "source": [
    "start = np.matrix('0.1 0.9') # Initial state probabilities\n",
    "transition = np.matrix('0.7 0.3; 0.1 0.9') # Transition probabilities\n",
    "emission = np.matrix('0.2 0.8; 0.4 0.6') # Emission probabilities"
   ]
  },
  {
   "cell_type": "code",
   "execution_count": 6,
   "metadata": {},
   "outputs": [],
   "source": [
    "_hmm = hmm(states, ob_types, start, transition, emission)"
   ]
  },
  {
   "cell_type": "code",
   "execution_count": 7,
   "metadata": {},
   "outputs": [
    {
     "name": "stdout",
     "output_type": "stream",
     "text": [
      "Forward algorithm:\n",
      "0.033196\n"
     ]
    }
   ],
   "source": [
    "print(\"Forward algorithm:\")\n",
    "print(_hmm.forward_algo(observations))"
   ]
  },
  {
   "cell_type": "code",
   "execution_count": 8,
   "metadata": {},
   "outputs": [
    {
     "name": "stdout",
     "output_type": "stream",
     "text": [
      "Viterbi algorithm:\n",
      "['M', 'M', 'M', 'M']\n"
     ]
    }
   ],
   "source": [
    "print(\"Viterbi algorithm:\")\n",
    "print(_hmm.viterbi(observations))"
   ]
  },
  {
   "cell_type": "code",
   "execution_count": null,
   "metadata": {},
   "outputs": [],
   "source": []
  }
 ],
 "metadata": {
  "kernelspec": {
   "display_name": "Python 3",
   "language": "python",
   "name": "python3"
  },
  "language_info": {
   "codemirror_mode": {
    "name": "ipython",
    "version": 3
   },
   "file_extension": ".py",
   "mimetype": "text/x-python",
   "name": "python",
   "nbconvert_exporter": "python",
   "pygments_lexer": "ipython3",
   "version": "3.8.3"
  }
 },
 "nbformat": 4,
 "nbformat_minor": 4
}
